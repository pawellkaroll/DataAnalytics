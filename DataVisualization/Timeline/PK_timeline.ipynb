{
 "cells": [
  {
   "cell_type": "code",
   "execution_count": 3,
   "metadata": {},
   "outputs": [],
   "source": [
    "#packages\n",
    "import pandas as pd\n",
    "import numpy as np\n",
    "from bs4 import BeautifulSoup\n",
    "import requests\n",
    "import matplotlib.pyplot as plt\n",
    "import themepy\n",
    "from highlight_text import HighlightText, ax_text, fig_text\n",
    "import matplotlib.font_manager\n",
    "from IPython.core.display import HTML\n",
    "import time"
   ]
  },
  {
   "cell_type": "code",
   "execution_count": null,
   "metadata": {},
   "outputs": [],
   "source": [
    "#fonts\n",
    "def make_html(fontname):\n",
    "    return \"<p>{font}: <span style='font-family:{font}; font-size: 24px;'>{font}</p>\".format(font=fontname)\n",
    "\n",
    "code = \"\\n\".join([make_html(font) for font in sorted(set([f.name for f in matplotlib.font_manager.fontManager.ttflist]))])\n",
    "\n",
    "#HTML(\"<div style='column-count: 2;'>{}</div>\".format(code))"
   ]
  },
  {
   "cell_type": "code",
   "execution_count": 4,
   "metadata": {},
   "outputs": [
    {
     "name": "stdout",
     "output_type": "stream",
     "text": [
      "Theme pavel_dark successfully overwritten\n"
     ]
    },
    {
     "data": {
      "text/plain": [
       "pavel_dark is the active theme"
      ]
     },
     "execution_count": 4,
     "metadata": {},
     "output_type": "execute_result"
    }
   ],
   "source": [
    "#creating theme\n",
    "theme = themepy.Theme()\n",
    "\n",
    "theme.set_theme()\n",
    "\n",
    "(theme\n",
    " .set_font(\"Open Sans\", color=\"white\") \n",
    " .set_pips(False) \n",
    " .set_spines(\"off\", which=[], color=\"white\") \n",
    " .set_background(\"#001a4d\") \n",
    " .set_ticklabel_size(12) \n",
    " .set_plot_colors(\"#DC5349\",\"#26D8FF\",\"#D3CFBD\") \n",
    ")\n",
    "theme.add_theme(\"pavel_dark\")\n",
    "theme.set_theme(\"pavel_dark\")"
   ]
  },
  {
   "cell_type": "code",
   "execution_count": 5,
   "metadata": {},
   "outputs": [],
   "source": [
    "#function to scrape 2 seasons of data from fbref\n",
    "def get_2_seasons_dfs(league_link):\n",
    "    res = requests.get(league_link)\n",
    "    soup = BeautifulSoup(res.content, 'html.parser')\n",
    "\n",
    "    table=soup.find_all(\"table\")[1]\n",
    "    links=table.find_all(\"td\",{\"class\":\"left\"})\n",
    "\n",
    "    linksList=[]\n",
    "    for i in range(0,len(links)):\n",
    "        linksList.append(\"https://fbref.com\"+(str(links[i]).split('href=\"',1)[1].split('\">',1)[0]))\n",
    "\n",
    "    linksList2=[]\n",
    "    for i in range(0,len(linksList)):\n",
    "        x=str(linksList[i]).split('/')\n",
    "        x.append(x[-1])\n",
    "        x[-2] = '2020-2021'\n",
    "        x = '/'.join(x)\n",
    "        linksList2.append(x)\n",
    "\n",
    "    df_lists=[]\n",
    "    for i in range(0, len(linksList)):\n",
    "        df_lists.append(pd.read_html(linksList[i]))\n",
    "        time.sleep(3)\n",
    "\n",
    "    df_lists2=[]\n",
    "    for i in range(0, len(linksList2)):\n",
    "        df_lists2.append(pd.read_html(linksList2[i]))\n",
    "        time.sleep(3)\n",
    "    \n",
    "    return (df_lists,df_lists2)"
   ]
  },
  {
   "cell_type": "code",
   "execution_count": 6,
   "metadata": {},
   "outputs": [],
   "source": [
    "#scraping\n",
    "df_lists,df_lists2=get_2_seasons_dfs(\"https://fbref.com/en/comps/9/2021-2022/2021-2022-Premier-League-Stats\")"
   ]
  },
  {
   "cell_type": "code",
   "execution_count": 28,
   "metadata": {},
   "outputs": [],
   "source": [
    "#function for timeline plot\n",
    "def make_1season_timeline(df_lists,df_lists2,league, change,change_text,color,place,title,team,roll):\n",
    "    fig, ax = plt.subplots(figsize=(16,9))\n",
    "    plt.subplots_adjust(left=0.2, bottom=0.2, right=0.8, top=0.8)\n",
    "\n",
    "\n",
    "    ax.grid(linewidth=.25, zorder=3, color=\"grey\")\n",
    "\n",
    "    for i in range(0, 18):   \n",
    "        df=df_lists[i]\n",
    "        temp=df[1]\n",
    "        temp=temp[temp[\"Comp\"]==league]\n",
    "        df2=df_lists2[i]\n",
    "        temp2=df2[1]\n",
    "        temp2=temp2[temp2[\"Comp\"]==league]\n",
    "        temp2=temp2.iloc[-roll:]\n",
    "        tmp=pd.concat([temp2,temp], axis=0)\n",
    "        tmp.reset_index(inplace=True)\n",
    "        tmp=tmp.drop(columns=[\"index\",\"Match Report\",\"Notes\"])\n",
    "        tmp = tmp.dropna(subset=[\"xG\",\"xGA\"])\n",
    "        tmp.Date=pd.to_datetime(tmp.Date)\n",
    "        tmp[\"xGD\"]=tmp.xG-tmp.xGA\n",
    "        tmp[\"xGD\"]=pd.to_numeric(tmp[\"xGD\"])\n",
    "        tmp[\"xGD_MA5\"]=tmp[\"xGD\"].rolling(roll).mean()\n",
    "        tmp = tmp.iloc[roll:]\n",
    "        x=tmp.Date\n",
    "        y=tmp.xGD_MA5\n",
    "        ax.plot(x, y,c=\"grey\",alpha=0.3,zorder=2)\n",
    "\n",
    "    ax.axvline(x=pd.to_datetime(change), color='white',zorder=1,ls=\"--\",lw=3,alpha=0.6)\n",
    "    ax.text(x=pd.to_datetime(change_text), y=0, s=\"Managerial Change\", \n",
    "        color = \"w\", alpha=0.4,verticalalignment='center',rotation=90,\n",
    "        font={'size':12,'family':\"Open Sans\",\"weight\":\"medium\"})\n",
    "\n",
    "    df=df_lists[place]\n",
    "    temp=df[1]\n",
    "    temp=temp[temp[\"Comp\"]==league]\n",
    "    df2=df_lists2[place]\n",
    "    temp2=df2[1]\n",
    "    temp2=temp2[temp2[\"Comp\"]==league]\n",
    "    temp2=temp2.iloc[-roll:]\n",
    "    tmp=pd.concat([temp2,temp], axis=0)\n",
    "    tmp.reset_index(inplace=True)\n",
    "    tmp=tmp.drop(columns=[\"index\",\"Match Report\",\"Notes\"])\n",
    "    tmp = tmp.dropna(subset=[\"xG\",\"xGA\"])\n",
    "    tmp.Date=pd.to_datetime(tmp.Date)\n",
    "    tmp[\"xGD\"]=tmp.xG-tmp.xGA\n",
    "    tmp[\"xGD\"]=pd.to_numeric(tmp[\"xGD\"])\n",
    "    tmp[\"xGD_MA5\"]=tmp[\"xGD\"].rolling(roll).mean()\n",
    "    tmp = tmp.iloc[roll:]\n",
    "    x=tmp.Date\n",
    "    y=tmp.xGD_MA5\n",
    "    ax.plot(x, y,c=color,alpha=0.6,linewidth=3,zorder=4)\n",
    "\n",
    "\n",
    "\n",
    "    ax.set_xticklabels([])\n",
    "    ax.set_yticklabels([-3,-2,-1,0,1,2],alpha=0.6)\n",
    "    ax.tick_params(labelright=True)\n",
    "\n",
    "    fig_text(x = 0.5, y = 0.83,s=\"<{} ><against rest of the field>\".format(team),ha='center', va='center',\n",
    "    highlight_textprops=[{\"color\": color,'size':20,'family':\"Open Sans\",\"weight\":\"bold\",\"alpha\":0.6},\n",
    "                {\"color\": \"white\",'size':20,'family':\"Open Sans\",\"weight\":\"bold\",\"alpha\":0.6}])\n",
    "    fig_text(x = 0.5, y = 0.16,s=\"<{} - game moving average of expected goals difference>\".format(roll),ha='center', va='center',\n",
    "    highlight_textprops=[{\"color\": \"white\",'size':18,'family':\"Open Sans\",\"weight\":\"medium\",\"alpha\":0.4}])\n",
    "\n",
    "    transform = ax.transAxes\n",
    "    ax.text(0.5, -0.25, \"Data: FBREF via Statsbomb\\nInspired By: @markrstats, @DanielKatona17\\nMade By: @pawellkaroll\", \n",
    "                        transform = transform, \n",
    "                        ha = 'center',color = \"w\", alpha=0.4,\n",
    "                        font={'size':12,\"style\":\"italic\"})\n",
    "    ax.text(0.5, 1.25, str(league+\", season 2021/2022\"), \n",
    "                        transform = transform, \n",
    "                        ha = 'center',color = \"w\", alpha=0.4,\n",
    "                        font={'size':14,'family':\"Open Sans\",\"weight\":\"medium\"})\n",
    "    ax.text(0.5, 1.10, title, \n",
    "                        transform = transform, \n",
    "                        ha = 'center',color = \"w\", alpha=0.8,\n",
    "                        font={'size':30,'family':\"Open Sans\",\"weight\":\"bold\"})\n",
    "\n",
    "    #fig.savefig(\"D:\\\\Python_roboczy\\\\DataVisualization\\\\Timelines\\\\timeline_\"+team+change+\".png\",dpi=400)"
   ]
  },
  {
   "cell_type": "code",
   "execution_count": 30,
   "metadata": {},
   "outputs": [
    {
     "name": "stderr",
     "output_type": "stream",
     "text": [
      "C:\\Users\\Paweł Zajdel\\AppData\\Local\\Temp\\ipykernel_5512\\2396081590.py:58: UserWarning: FixedFormatter should only be used together with FixedLocator\n",
      "  ax.set_yticklabels([-3,-2,-1,0,1,2],alpha=0.6)\n"
     ]
    }
   ],
   "source": [
    "make_1season_timeline(df_lists=df_lists,df_lists2=df_lists2,league=\"Premier League\", change=\"2021-11-08\",change_text=\"2021-11-08\",\n",
    "color=\"#FDF105\",place=10,title=\"How the things are going?\",team=\"Newcastle\",roll=3)"
   ]
  },
  {
   "cell_type": "code",
   "execution_count": null,
   "metadata": {},
   "outputs": [],
   "source": []
  }
 ],
 "metadata": {
  "kernelspec": {
   "display_name": "Python 3.10.2 64-bit",
   "language": "python",
   "name": "python3"
  },
  "language_info": {
   "codemirror_mode": {
    "name": "ipython",
    "version": 3
   },
   "file_extension": ".py",
   "mimetype": "text/x-python",
   "name": "python",
   "nbconvert_exporter": "python",
   "pygments_lexer": "ipython3",
   "version": "3.10.2"
  },
  "orig_nbformat": 4,
  "vscode": {
   "interpreter": {
    "hash": "5312a05d4c1062e7e99dc4a1327331a73c17135ec320657c0e8e8843948bfa85"
   }
  }
 },
 "nbformat": 4,
 "nbformat_minor": 2
}
